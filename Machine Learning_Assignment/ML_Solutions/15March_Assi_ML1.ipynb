{
 "cells": [
  {
   "cell_type": "markdown",
   "metadata": {},
   "source": [
    "## Q1- Define the following with an example:\n",
    "\n",
    "\n",
    "A) Artificial Intelligence (AI)\n",
    "\n",
    "Definition: AI refers to the simulation of human intelligence in machines that are programmed to think and learn like humans.\n",
    "\n",
    "Example: Chatbots, such as those used in customer service to answer questions and assist customers.\n",
    "\n",
    "B) Machine Learning (ML)\n",
    "\n",
    "Definition: ML is a subset of AI that involves training algorithms to learn patterns from data and make predictions or decisions without being explicitly programmed.\n",
    "\n",
    "Example: Spam email detection systems that learn to identify spam emails from examples of spam and non-spam emails.\n",
    "\n",
    "C) Deep Learning (DL)\n",
    "\n",
    "Definition: DL is a subset of ML that uses neural networks with many layers (deep neural networks) to model complex patterns in data.\n",
    "\n",
    "Example: Image recognition systems, such as those used in self-driving cars to identify objects on the road."
   ]
  },
  {
   "cell_type": "markdown",
   "metadata": {},
   "source": [
    "## Q2- What is supervised learning? List some examples of supervised learning.\n",
    "\n",
    "Definition: Supervised learning is a type of machine learning where the model is trained on labeled data, meaning the input data is paired with the correct output.\n",
    "\n",
    "Examples:\n",
    "\n",
    "Classification: Email spam detection, where emails are labeled as spam or not spam.\n",
    "\n",
    "Regression: Predicting house prices based on features like location, size, and number of bedrooms.\n",
    "\n",
    "Object Detection: Identifying and locating objects in images, such as detecting faces in photos.\n",
    "\n"
   ]
  },
  {
   "cell_type": "markdown",
   "metadata": {},
   "source": [
    "## Q3- What is unsupervised learning? List some examples of unsupervised learning.\n",
    "\n",
    "Definition: Unsupervised learning is a type of machine learning where the model is trained on unlabeled data, and it tries to find patterns and relationships in the data without explicit guidance.\n",
    "\n",
    "Examples:\n",
    "\n",
    "Clustering: Grouping customers based on purchasing behavior.\n",
    "\n",
    "Association: Market basket analysis to find items frequently bought together.\n",
    "\n",
    "Dimensionality Reduction: Reducing the number of features in a dataset while retaining essential information, such as using PCA (Principal Component Analysis).\n"
   ]
  },
  {
   "cell_type": "markdown",
   "metadata": {},
   "source": [
    " ## Q4- What is the difference between AI, ML, DL, and DS?\n",
    "\n",
    " Artificial Intelligence (AI): The broader concept of machines being able to carry out tasks in a way that we would consider \"smart.\"\n",
    "\n",
    "Machine Learning (ML): A subset of AI focused on algorithms that learn from and make predictions on data.\n",
    "\n",
    "Deep Learning (DL): A subset of ML that uses neural networks with many layers to analyze various factors of data.\n",
    "\n",
    "Data Science (DS): An interdisciplinary field that uses scientific methods, processes, algorithms, and systems to extract knowledge and insights from structured and unstructured data. It encompasses AI, ML, and DL among other techniques."
   ]
  },
  {
   "cell_type": "markdown",
   "metadata": {},
   "source": [
    "## Q5- What are the main differences between supervised, unsupervised, and semi-supervised learning?\n",
    "\n",
    "Supervised Learning: Uses labeled data to train models, making it suitable for classification and regression tasks.\n",
    "\n",
    "Unsupervised Learning: Uses unlabeled data to identify patterns and relationships, suitable for clustering and association tasks.\n",
    "\n",
    "Semi-Supervised Learning: Uses a combination of labeled and unlabeled data, leveraging the small amount of labeled data to improve learning accuracy."
   ]
  },
  {
   "cell_type": "markdown",
   "metadata": {},
   "source": [
    "## Q6- What is train, test, and validation split? Explain the importance of each term.\n",
    "\n",
    "Training Set: The portion of the dataset used to train the model. The model learns from this data.\n",
    "\n",
    "Validation Set: The portion of the dataset used to tune hyperparameters and make decisions about the model architecture. It helps in model selection and avoiding overfitting.\n",
    "\n",
    "Test Set: The portion of the dataset used to evaluate the performance of the final model. It provides an unbiased evaluation of the model's performance on unseen data.\n",
    "\n",
    "Importance: Splitting data helps to assess how well the model generalizes to new, unseen data, ensuring the model's reliability and accuracy.\n",
    "\n",
    "## Q7- How can unsupervised learning be used in anomaly detection?\n",
    "\n",
    "Explanation: Unsupervised learning can identify patterns and relationships in data without labeled examples of normal or abnormal behavior. In anomaly detection, unsupervised learning algorithms can be used to model the normal behavior of the system and identify deviations from this behavior as anomalies. Techniques like clustering, density estimation, and autoencoders are commonly used for this purpose.\n",
    "\n",
    "## Q8- List down some commonly used supervised learning algorithms and unsupervised learning algorithms.\n",
    "\n",
    "Supervised Learning Algorithms:\n",
    "\n",
    "Linear Regression\n",
    "\n",
    "Logistic Regression\n",
    "\n",
    "Decision Trees\n",
    "\n",
    "Random Forests\n",
    "\n",
    "Support Vector Machines (SVM)\n",
    "\n",
    "Neural Networks\n",
    "\n",
    "K-Nearest Neighbors (KNN)\n",
    "\n",
    "Unsupervised Learning Algorithms:\n",
    "\n",
    "K-Means Clustering\n",
    "\n",
    "Hierarchical Clustering\n",
    "\n",
    "Principal Component Analysis (PCA)\n",
    "\n",
    "Independent Component Analysis (ICA)\n",
    "\n",
    "DBSCAN (Density-Based Spatial Clustering of Applications with Noise)\n",
    "\n",
    "Autoencoders\n",
    "\n",
    "Gaussian Mixture Models (GMM)\n"
   ]
  },
  {
   "cell_type": "markdown",
   "metadata": {},
   "source": []
  },
  {
   "cell_type": "markdown",
   "metadata": {},
   "source": []
  }
 ],
 "metadata": {
  "language_info": {
   "name": "python"
  }
 },
 "nbformat": 4,
 "nbformat_minor": 2
}
